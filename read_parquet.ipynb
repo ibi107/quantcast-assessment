{
 "cells": [
  {
   "cell_type": "code",
   "execution_count": 5,
   "id": "0b077113-f109-4321-88e8-5ed729e817a4",
   "metadata": {},
   "outputs": [],
   "source": [
    "import pandas as pd"
   ]
  },
  {
   "cell_type": "code",
   "execution_count": 6,
   "id": "bc7c1598-cd8f-4803-bcef-b5667172de50",
   "metadata": {},
   "outputs": [
    {
     "name": "stdout",
     "output_type": "stream",
     "text": [
      "                                                     url  \\\n",
      "0      1stwebdesigner.com/free-wordpress-portfolio-pl...   \n",
      "1      3boysandadog.com/14-fun-pig-craft-projects-for...   \n",
      "2                          975kgkl.com/listen-live/popup   \n",
      "3      9news.com/article/entertainment/music/colorado...   \n",
      "4      9to5toys.com/2022/04/07/best-ios-app-deals-dea...   \n",
      "...                                                  ...   \n",
      "20357                    wikihow.com/know-your-horoscope   \n",
      "20358    wowhead.com/item=183798/silessas-battle-harness   \n",
      "20359  wxxv25.com/mega-millions-winning-numbers-for-a...   \n",
      "20360  yellowpages.com/chicago-il/mip/eldorado-associ...   \n",
      "20361                     zacks.com/amp/stock/quote/grin   \n",
      "\n",
      "                                                     vec  \\\n",
      "0      [0.06221233308315277, -0.027142951264977455, 0...   \n",
      "1      [0.053764428943395615, 0.10884478688240051, 0....   \n",
      "2      [-0.43707162141799927, 0.1012381836771965, 0.4...   \n",
      "3      [-0.011343298479914665, -0.29037919640541077, ...   \n",
      "4      [-0.07137802243232727, 0.02366500347852707, 0....   \n",
      "...                                                  ...   \n",
      "20357  [0.2185262143611908, 0.27782610058784485, 0.39...   \n",
      "20358  [-0.3426993489265442, -0.5136269330978394, 0.1...   \n",
      "20359  [-0.12909795343875885, 0.01121798250824213, 0....   \n",
      "20360  [0.2040729522705078, 0.22004681825637817, 0.50...   \n",
      "20361  [0.027193576097488403, 0.06823905557394028, 0....   \n",
      "\n",
      "                                                contents  \n",
      "0      Top 10 Free WordPress Portfolio Plugins - 1stW...  \n",
      "1      26 Fun & Easy Pig Craft Projects for Kids. Whe...  \n",
      "2      KGKL 97.5 FM Country - Listen Live. Listen liv...  \n",
      "3      Backstreet Boys will bring DNA World Tour back...  \n",
      "4      Todays best Mac and iOS app deals: Dead Cells,...  \n",
      "...                                                  ...  \n",
      "20357  3 Ways to Know Your Horoscope - wikiHow. How d...  \n",
      "20358  Silessas Battle Harness - Item - World of Warc...  \n",
      "20359  Mega Millions winning numbers for April 5th, 2...  \n",
      "20360  Eldorado & Associates 3223 W 26th St, Chicago,...  \n",
      "20361  Grindrod Shipping - GRIN - Stock Price Today -...  \n",
      "\n",
      "[20362 rows x 3 columns]\n"
     ]
    }
   ],
   "source": [
    "df = pd.read_parquet('./dataset.parquet')\n",
    "print(df)"
   ]
  }
 ],
 "metadata": {
  "kernelspec": {
   "display_name": "Python 3 (ipykernel)",
   "language": "python",
   "name": "python3"
  },
  "language_info": {
   "codemirror_mode": {
    "name": "ipython",
    "version": 3
   },
   "file_extension": ".py",
   "mimetype": "text/x-python",
   "name": "python",
   "nbconvert_exporter": "python",
   "pygments_lexer": "ipython3",
   "version": "3.12.1"
  }
 },
 "nbformat": 4,
 "nbformat_minor": 5
}
